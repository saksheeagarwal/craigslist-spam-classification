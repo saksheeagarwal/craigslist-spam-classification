{
 "cells": [
  {
   "cell_type": "code",
   "execution_count": 3,
   "metadata": {},
   "outputs": [],
   "source": [
    "import pandas as pd\n",
    "import seaborn\n",
    "from imblearn.over_sampling import SMOTE\n",
    "from nltk.corpus import stopwords\n",
    "from nltk.stem import WordNetLemmatizer\n",
    "import nltk\n",
    "import numpy as np\n",
    "import matplotlib.pyplot as plt\n",
    "import seaborn as sns\n",
    "from sklearn.model_selection import train_test_split\n",
    "from sklearn.feature_extraction.text import TfidfVectorizer\n",
    "from sklearn.metrics import classification_report"
   ]
  },
  {
   "cell_type": "code",
   "execution_count": 10,
   "metadata": {},
   "outputs": [],
   "source": [
    "input_data = pd.read_csv(\"boat_labeled.csv\", encoding= 'unicode_escape')"
   ]
  },
  {
   "cell_type": "code",
   "execution_count": 11,
   "metadata": {},
   "outputs": [],
   "source": [
    "########### Importing & Preparing data #########\n",
    "\n",
    "\n",
    "input_data = input_data.drop('url', axis='columns')\n",
    "input_data.title = input_data.title.astype(str)\n",
    "input_data.desc = input_data.desc.astype(str)\n",
    "input_data.label = input_data.label.astype(str)\n",
    "input_text = []\n",
    "for i in range(0, len(input_data.label)):\n",
    "    desc = input_data.desc[i].split('{\"@context\":')\n",
    "    input_text.append(input_data.title[i] + \" \" + desc[0])\n",
    "input_data.insert(0, 'text', input_text)\n"
   ]
  },
  {
   "cell_type": "code",
   "execution_count": 135,
   "metadata": {},
   "outputs": [],
   "source": [
    "####### Function for Pie-chart based EDA ######\n",
    "def pie_spam(list_spam):\n",
    "    count_spam = 0\n",
    "    for i in list_spam:\n",
    "        if i == 'Spam':\n",
    "            count_spam += 1\n",
    "        else:\n",
    "            pass\n",
    "    count_Non_spam = len(list_spam) - count_spam\n",
    "    fig_data = [count_spam, count_Non_spam]\n",
    "    fig_label = [\"Spam\", \"Non-Spam\"]\n",
    "    fig_explode = [0.1, 0]\n",
    "    fig_color = ['#5499C7','#1B4F72']\n",
    "    fig1, ax1 = plt.subplots()\n",
    "    ax1.pie(fig_data, labels=fig_label, colors=fig_color,  explode=fig_explode, autopct='%1.1f%%', startangle=110)\n",
    "    plt.tight_layout()\n",
    "    plt.show()\n",
    "    plt.savefig(f\"spam_pie.png\")"
   ]
  },
  {
   "cell_type": "code",
   "execution_count": 136,
   "metadata": {},
   "outputs": [
    {
     "data": {
      "image/png": "[encoded data removed]",
      "text/plain": [
       "<Figure size 432x288 with 1 Axes>"
      ]
     },
     "metadata": {},
     "output_type": "display_data"
    },
    {
     "data": {
      "text/plain": [
       "<Figure size 432x288 with 0 Axes>"
      ]
     },
     "metadata": {},
     "output_type": "display_data"
    }
   ],
   "source": [
    "######## Data Pre-processing #######\n",
    "label = input_data.label.tolist()\n",
    "pie_spam(label) # 15.6% spam 84.4% Non-Spam\n",
    "stemmer = WordNetLemmatizer()\n",
    "def preprocess(document):\n",
    "    document = document.lower()\n",
    "    words = nltk.word_tokenize(document)\n",
    "    words = [stemmer.lemmatize(word) for word in words if word.isalpha()]\n",
    "    words = [word for word in words if word not in stopwords.words(\"english\")]\n",
    "    sentence = \" \".join(words)\n",
    "    return sentence\n",
    "textList = [text for text in input_data.text]\n",
    "processed_data_texts = [preprocess(text) for text in textList]\n",
    "df_texts = pd.DataFrame({'label': label, 'text': processed_data_texts})"
   ]
  },
  {
   "cell_type": "code",
   "execution_count": 22,
   "metadata": {},
   "outputs": [
    {
     "name": "stderr",
     "output_type": "stream",
     "text": [
      "[nltk_data] Downloading package stopwords to\n",
      "[nltk_data]     /Users/surbhigawande/nltk_data...\n",
      "[nltk_data]   Unzipping corpora/stopwords.zip.\n"
     ]
    },
    {
     "data": {
      "text/plain": [
       "True"
      ]
     },
     "execution_count": 22,
     "metadata": {},
     "output_type": "execute_result"
    }
   ],
   "source": [
    "nltk.download('stopwords')"
   ]
  },
  {
   "cell_type": "code",
   "execution_count": 24,
   "metadata": {},
   "outputs": [],
   "source": [
    "# transform the dataset\n",
    "import numpy as np\n",
    "import pandas as pd\n",
    "#import keras\n",
    "import seaborn as sns\n",
    "import matplotlib.pyplot as plt\n",
    "from time import time\n",
    "from collections import Counter"
   ]
  },
  {
   "cell_type": "code",
   "execution_count": 25,
   "metadata": {},
   "outputs": [
    {
     "data": {
      "text/html": [
       "<div>\n",
       "<style scoped>\n",
       "    .dataframe tbody tr th:only-of-type {\n",
       "        vertical-align: middle;\n",
       "    }\n",
       "\n",
       "    .dataframe tbody tr th {\n",
       "        vertical-align: top;\n",
       "    }\n",
       "\n",
       "    .dataframe thead th {\n",
       "        text-align: right;\n",
       "    }\n",
       "</style>\n",
       "<table border=\"1\" class=\"dataframe\">\n",
       "  <thead>\n",
       "    <tr style=\"text-align: right;\">\n",
       "      <th></th>\n",
       "      <th>label</th>\n",
       "      <th>text</th>\n",
       "    </tr>\n",
       "  </thead>\n",
       "  <tbody>\n",
       "    <tr>\n",
       "      <th>0</th>\n",
       "      <td>Non-Spam</td>\n",
       "      <td>sea ray slx ay slx boat owner marine sale</td>\n",
       "    </tr>\n",
       "    <tr>\n",
       "      <th>1</th>\n",
       "      <td>Non-Spam</td>\n",
       "      <td>sea ray sundeck ay sundeck boat owner marine sale</td>\n",
       "    </tr>\n",
       "    <tr>\n",
       "      <th>2</th>\n",
       "      <td>Non-Spam</td>\n",
       "      <td>crownline l ne l boat owner marine sale</td>\n",
       "    </tr>\n",
       "    <tr>\n",
       "      <th>3</th>\n",
       "      <td>Non-Spam</td>\n",
       "      <td>baja boat owner marine sale</td>\n",
       "    </tr>\n",
       "    <tr>\n",
       "      <th>4</th>\n",
       "      <td>Non-Spam</td>\n",
       "      <td>four winns horizon nns horizon boat owner mari...</td>\n",
       "    </tr>\n",
       "    <tr>\n",
       "      <th>...</th>\n",
       "      <td>...</td>\n",
       "      <td>...</td>\n",
       "    </tr>\n",
       "    <tr>\n",
       "      <th>545</th>\n",
       "      <td>Non-Spam</td>\n",
       "      <td>starcraft limited ft limited boat owner marine...</td>\n",
       "    </tr>\n",
       "    <tr>\n",
       "      <th>546</th>\n",
       "      <td>Non-Spam</td>\n",
       "      <td>p boat owner marine sale</td>\n",
       "    </tr>\n",
       "    <tr>\n",
       "      <th>547</th>\n",
       "      <td>Non-Spam</td>\n",
       "      <td>mastercraft prostar ft prostar boat owner mari...</td>\n",
       "    </tr>\n",
       "    <tr>\n",
       "      <th>548</th>\n",
       "      <td>Non-Spam</td>\n",
       "      <td>supra saltare price drop tare price drop boat ...</td>\n",
       "    </tr>\n",
       "    <tr>\n",
       "      <th>549</th>\n",
       "      <td>Spam</td>\n",
       "      <td>south bay sport uth bay sport boat owner marin...</td>\n",
       "    </tr>\n",
       "  </tbody>\n",
       "</table>\n",
       "<p>550 rows × 2 columns</p>\n",
       "</div>"
      ],
      "text/plain": [
       "        label                                               text\n",
       "0    Non-Spam          sea ray slx ay slx boat owner marine sale\n",
       "1    Non-Spam  sea ray sundeck ay sundeck boat owner marine sale\n",
       "2    Non-Spam            crownline l ne l boat owner marine sale\n",
       "3    Non-Spam                        baja boat owner marine sale\n",
       "4    Non-Spam  four winns horizon nns horizon boat owner mari...\n",
       "..        ...                                                ...\n",
       "545  Non-Spam  starcraft limited ft limited boat owner marine...\n",
       "546  Non-Spam                           p boat owner marine sale\n",
       "547  Non-Spam  mastercraft prostar ft prostar boat owner mari...\n",
       "548  Non-Spam  supra saltare price drop tare price drop boat ...\n",
       "549      Spam  south bay sport uth bay sport boat owner marin...\n",
       "\n",
       "[550 rows x 2 columns]"
      ]
     },
     "execution_count": 25,
     "metadata": {},
     "output_type": "execute_result"
    }
   ],
   "source": [
    "df_texts"
   ]
  },
  {
   "cell_type": "code",
   "execution_count": 38,
   "metadata": {},
   "outputs": [
    {
     "name": "stderr",
     "output_type": "stream",
     "text": [
      "/Users/surbhigawande/opt/anaconda3/lib/python3.8/site-packages/sklearn/feature_extraction/text.py:388: UserWarning: Your stop_words may be inconsistent with your preprocessing. Tokenizing the stop words generated tokens ['b', 'c', 'd', 'e', 'f', 'g', 'h', 'k', 'l', 'm', 'n', 'o', 'p', 'r', 's', 't', 'u', 'v', 'w', 'x', 'y'] not in stop_words.\n",
      "  warnings.warn('Your stop_words may be inconsistent with '\n"
     ]
    }
   ],
   "source": [
    "###### splitting train test data ######\n",
    "train_x, test_x, train_y, test_y = train_test_split(df_texts.text, df_texts.label, test_size=0.2, random_state=0)\n",
    "#print(train_x.shape) # (385, 349)\n",
    "#print(train_y.shape) # (385,)\n",
    "# type(train_x) # <class 'scipy.sparse.csr.csr_matrix'>\n",
    "\n",
    "##### TFIDF Vectorization ######\n",
    "def tk(doc):\n",
    "    return doc\n",
    "vec = TfidfVectorizer(analyzer='word', tokenizer=tk, preprocessor=tk, token_pattern=None,\n",
    "                      min_df=2, ngram_range=(1,2), stop_words='english')\n",
    "vec.fit(train_x)\n",
    "train_x = vec.transform(train_x)\n",
    "test_x = vec.transform(test_x)\n",
    "#np.array(train_x) # 385x349\n",
    "smt = SMOTE(sampling_strategy=0.25)\n",
    "train_x,train_y = smt.fit_resample(train_x,train_y)"
   ]
  },
  {
   "cell_type": "code",
   "execution_count": 107,
   "metadata": {},
   "outputs": [
    {
     "name": "stdout",
     "output_type": "stream",
     "text": [
      "Naive Bayes:::\n",
      "              precision    recall  f1-score   support\n",
      "\n",
      "    Non-Spam       0.86      0.87      0.86        92\n",
      "        Spam       0.29      0.28      0.29        18\n",
      "\n",
      "    accuracy                           0.77       110\n",
      "   macro avg       0.58      0.57      0.58       110\n",
      "weighted avg       0.77      0.77      0.77       110\n",
      "\n"
     ]
    }
   ],
   "source": [
    "######## training various NLP Models #######\n",
    "model = []\n",
    "# train Naive Bayes\n",
    "from sklearn.naive_bayes import BernoulliNB\n",
    "NBmodel = BernoulliNB()\n",
    "NBmodel.fit(train_x, train_y)\n",
    "y_pred_NB = NBmodel.predict(test_x)\n",
    "model.append(\"Naive Bayes\")\n",
    "print(\"Naive Bayes:::\")\n",
    "print(classification_report(test_y, y_pred_NB))"
   ]
  },
  {
   "cell_type": "code",
   "execution_count": 42,
   "metadata": {},
   "outputs": [
    {
     "name": "stdout",
     "output_type": "stream",
     "text": [
      "Random Forestl:::\n",
      "              precision    recall  f1-score   support\n",
      "\n",
      "    Non-Spam       0.88      0.97      0.92        92\n",
      "        Spam       0.67      0.33      0.44        18\n",
      "\n",
      "    accuracy                           0.86       110\n",
      "   macro avg       0.77      0.65      0.68       110\n",
      "weighted avg       0.85      0.86      0.84       110\n",
      "\n"
     ]
    }
   ],
   "source": [
    "# train Random Forest\n",
    "from sklearn.ensemble import RandomForestClassifier\n",
    "RFmodel = RandomForestClassifier(n_estimators=500, max_depth=6, bootstrap=True, random_state=0,class_weight = 'balanced')  # with 10 trees\n",
    "RFmodel.fit(train_x, train_y)\n",
    "y_pred_RF = RFmodel.predict(test_x)\n",
    "#model.append(\"Random Forest\")\n",
    "print(\"Random Forestl:::\")\n",
    "print(classification_report(test_y, y_pred_RF))"
   ]
  },
  {
   "cell_type": "code",
   "execution_count": 80,
   "metadata": {},
   "outputs": [
    {
     "name": "stdout",
     "output_type": "stream",
     "text": [
      "SVM:::\n",
      "              precision    recall  f1-score   support\n",
      "\n",
      "    Non-Spam       0.87      0.98      0.92        92\n",
      "        Spam       0.67      0.22      0.33        18\n",
      "\n",
      "    accuracy                           0.85       110\n",
      "   macro avg       0.77      0.60      0.63       110\n",
      "weighted avg       0.83      0.85      0.82       110\n",
      "\n"
     ]
    }
   ],
   "source": [
    "\n",
    "# train Linear SVM\n",
    "from sklearn.svm import LinearSVC\n",
    "SVMmodel = LinearSVC(random_state = 0, penalty = 'l1', dual = False)\n",
    "SVMmodel.fit(train_x, train_y)\n",
    "y_pred_SVM = SVMmodel.predict(test_x)\n",
    "model.append(\"SVM\")\n",
    "print(\"SVM:::\")\n",
    "print(classification_report(test_y, y_pred_SVM))"
   ]
  },
  {
   "cell_type": "code",
   "execution_count": 81,
   "metadata": {},
   "outputs": [
    {
     "name": "stdout",
     "output_type": "stream",
     "text": [
      "SVMP:::\n",
      "              precision    recall  f1-score   support\n",
      "\n",
      "    Non-Spam       0.88      0.96      0.92        92\n",
      "        Spam       0.60      0.33      0.43        18\n",
      "\n",
      "    accuracy                           0.85       110\n",
      "   macro avg       0.74      0.64      0.67       110\n",
      "weighted avg       0.83      0.85      0.84       110\n",
      "\n"
     ]
    }
   ],
   "source": [
    "# train polynomial SVM\n",
    "from sklearn.svm import SVC \n",
    "SVMPmodel = SVC(kernel = 'poly',degree=3, random_state = 0, class_weight = 'balanced', gamma=\"auto\")\n",
    "SVMPmodel.fit(train_x, train_y)\n",
    "y_pred_SVMP = SVMPmodel.predict(test_x)\n",
    "model.append(\"Polynomial SVM\")\n",
    "print(\"SVMP:::\")\n",
    "print(classification_report(test_y, y_pred_SVMP))"
   ]
  },
  {
   "cell_type": "code",
   "execution_count": 100,
   "metadata": {},
   "outputs": [
    {
     "name": "stdout",
     "output_type": "stream",
     "text": [
      "[LibSVM]SVMP:::\n",
      "              precision    recall  f1-score   support\n",
      "\n",
      "    Non-Spam       0.88      0.96      0.92        92\n",
      "        Spam       0.60      0.33      0.43        18\n",
      "\n",
      "    accuracy                           0.85       110\n",
      "   macro avg       0.74      0.64      0.67       110\n",
      "weighted avg       0.83      0.85      0.84       110\n",
      "\n"
     ]
    }
   ],
   "source": [
    "# train polynomial SVM\n",
    "from sklearn.svm import SVC \n",
    "SVMPmodel = SVC(C= 100, kernel = 'poly',degree=3, random_state = 0, class_weight = 'balanced', gamma='auto', verbose = 2)\n",
    "SVMPmodel.fit(train_x, train_y)\n",
    "y_pred_SVMP = SVMPmodel.predict(test_x)\n",
    "model.append(\"Polynomial SVM\")\n",
    "print(\"SVMP:::\")\n",
    "print(classification_report(test_y, y_pred_SVMP))"
   ]
  },
  {
   "cell_type": "code",
   "execution_count": 108,
   "metadata": {},
   "outputs": [
    {
     "name": "stdout",
     "output_type": "stream",
     "text": [
      "Naive Bayes model Precision:: 29.41%\n",
      "Random Forest Model Precision:: 66.67%\n",
      "SVM model Precision:: 66.67%\n",
      "SVMP model Precision:: 66.67%\n"
     ]
    }
   ],
   "source": [
    "from sklearn.metrics import precision_score\n",
    "acc = []\n",
    "acc_NB = precision_score(test_y, y_pred_NB, pos_label=\"Spam\" )  # evaluate accuracy rate of Naive Bayes model\n",
    "print(\"Naive Bayes model Precision:: {:.2f}%\".format(acc_NB*100))\n",
    "acc.append(acc_NB*100)\n",
    "# acc_logit = precision_score(test_y, y_pred_logit)  # evaluate accuracy rate of Logit model model\n",
    "# print(\"Logit model Precision:: {:.2f}%\".format(acc_logit*100))\n",
    "# acc.append(acc_logit*100)\n",
    "acc_RF = precision_score(test_y, y_pred_RF, pos_label=\"Spam\")  # evaluate accuracy rate of Random Forest model\n",
    "print(\"Random Forest Model Precision:: {:.2f}%\".format(acc_RF*100))\n",
    "acc.append(acc_RF*100)\n",
    "acc_SVM = precision_score(test_y, y_pred_SVM, pos_label=\"Spam\")  # evaluate accuracy rate of SVM model\n",
    "print(\"SVM model Precision:: {:.2f}%\".format(acc_SVM*100))\n",
    "acc.append(acc_SVM*100)\n",
    "acc_SVMP = precision_score(test_y, y_pred_SVMP, pos_label=\"Spam\")  # evaluate accuracy rate of SVM poly model\n",
    "print(\"SVMP model Precision:: {:.2f}%\".format(acc_SVM*100))\n",
    "acc.append(acc_SVMP*100)"
   ]
  },
  {
   "cell_type": "code",
   "execution_count": 113,
   "metadata": {},
   "outputs": [],
   "source": [
    "\n",
    "x = ['NB', 'RF', 'SVM', 'SVMP']\n",
    "y = np.array([acc_NB,acc_RF,acc_SVM,acc_SVMP])\n"
   ]
  },
  {
   "cell_type": "code",
   "execution_count": 126,
   "metadata": {},
   "outputs": [
    {
     "data": {
      "text/plain": [
       "<matplotlib.axes._subplots.AxesSubplot at 0x7fcb36ac1d30>"
      ]
     },
     "execution_count": 126,
     "metadata": {},
     "output_type": "execute_result"
    },
    {
     "data": {
      "image/png": "[encoded data removed]",
      "text/plain": [
       "<Figure size 432x288 with 1 Axes>"
      ]
     },
     "metadata": {
      "needs_background": "light"
     },
     "output_type": "display_data"
    }
   ],
   "source": [
    "import seaborn\n",
    "tips = sns.load_dataset(\"tips\")\n",
    "seaborn.barplot(x,y, palette=\"mako\", data= tips)\n"
   ]
  },
  {
   "cell_type": "code",
   "execution_count": 132,
   "metadata": {},
   "outputs": [
    {
     "data": {
      "image/png": "[encoded data removed]",
      "text/plain": [
       "<Figure size 432x288 with 1 Axes>"
      ]
     },
     "metadata": {
      "needs_background": "light"
     },
     "output_type": "display_data"
    }
   ],
   "source": [
    "g=seaborn.barplot(x,y, palette=\"mako\", data= tips)\n",
    "ax=g\n",
    "#annotate axis = seaborn axis\n",
    "#for p in ax.patches:\n",
    "#             ax.annotate(\"%.2f\" % p.get_height(), (p.get_x() + p.get_width() / 2., p.get_height()),\n",
    "#                 ha='center', va='center', fontsize=11, color='gray', xytext=(0, 20),\n",
    "#                 textcoords='offset points')\n",
    "#_ = g.set_ylim(0,120) #To make space for the annotations\n",
    "\n",
    "plt.show(g)"
   ]
  },
  {
   "cell_type": "code",
   "execution_count": null,
   "metadata": {},
   "outputs": [],
   "source": []
  }
 ],
 "metadata": {
  "kernelspec": {
   "display_name": "Python 3",
   "language": "python",
   "name": "python3"
  },
  "language_info": {
   "codemirror_mode": {
    "name": "ipython",
    "version": 3
   },
   "file_extension": ".py",
   "mimetype": "text/x-python",
   "name": "python",
   "nbconvert_exporter": "python",
   "pygments_lexer": "ipython3",
   "version": "3.8.3"
  }
 },
 "nbformat": 4,
 "nbformat_minor": 4
}
